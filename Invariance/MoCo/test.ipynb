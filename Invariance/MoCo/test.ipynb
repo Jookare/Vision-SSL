{
 "cells": [
  {
   "cell_type": "code",
   "execution_count": 1,
   "metadata": {},
   "outputs": [],
   "source": [
    "import argparse\n",
    "\n",
    "import torch\n",
    "import timm\n",
    "import torchvision\n",
    "from torch.utils.data import DataLoader\n",
    "\n",
    "from lightning.pytorch import Trainer\n",
    "from lightning.pytorch.loggers import TensorBoardLogger\n",
    "from lightning.pytorch.callbacks import ModelCheckpoint\n",
    "\n",
    "from misc import collate_fn, Augment_v2\n",
    "from model import MoCo\n"
   ]
  },
  {
   "cell_type": "code",
   "execution_count": 7,
   "metadata": {},
   "outputs": [],
   "source": [
    "train_dataset = torchvision.datasets.ImageFolder(root=\"../../data/imagenet\")\n",
    "img_size = train_dataset[0][0].size[0]\n",
    "\n",
    "augment = Augment_v2(image_size=img_size)\n",
    "\n",
    "def collate_fn(batch, augment):\n",
    "    \"\"\"\n",
    "    batch: list of (img, label)\n",
    "    augment: an instance of Augment_v2\n",
    "    \"\"\"\n",
    "    x_q, x_k = [], []\n",
    "    labels = []\n",
    "    for img, label in batch:\n",
    "        x1 = augment(img)\n",
    "        x2 = augment(img)\n",
    "        x_q.append(x1)\n",
    "        x_k.append(x2)\n",
    "        labels.append(label)\n",
    "\n",
    "    # Stack into tensors\n",
    "    x_q = torch.stack(x_q, dim=0)\n",
    "    x_k = torch.stack(x_k, dim=0)\n",
    "\n",
    "    return x_q, x_k, labels\n",
    "\n",
    "\n",
    "train_loader = DataLoader(\n",
    "        dataset=train_dataset,\n",
    "        batch_size=64,\n",
    "        shuffle=True,\n",
    "        collate_fn=lambda batch: collate_fn(batch, augment),\n",
    "        num_workers=10,\n",
    "        pin_memory=True\n",
    "    )\n",
    "    "
   ]
  },
  {
   "cell_type": "code",
   "execution_count": 8,
   "metadata": {},
   "outputs": [],
   "source": [
    "batch = next(iter(train_loader))"
   ]
  },
  {
   "cell_type": "code",
   "execution_count": 9,
   "metadata": {},
   "outputs": [
    {
     "data": {
      "text/plain": [
       "[68,\n",
       " 41,\n",
       " 115,\n",
       " 173,\n",
       " 67,\n",
       " 138,\n",
       " 15,\n",
       " 151,\n",
       " 148,\n",
       " 90,\n",
       " 55,\n",
       " 119,\n",
       " 163,\n",
       " 112,\n",
       " 198,\n",
       " 17,\n",
       " 157,\n",
       " 166,\n",
       " 122,\n",
       " 138,\n",
       " 159,\n",
       " 92,\n",
       " 89,\n",
       " 67,\n",
       " 191,\n",
       " 72,\n",
       " 65,\n",
       " 7,\n",
       " 172,\n",
       " 83,\n",
       " 47,\n",
       " 4,\n",
       " 66,\n",
       " 142,\n",
       " 162,\n",
       " 159,\n",
       " 187,\n",
       " 22,\n",
       " 196,\n",
       " 131,\n",
       " 176,\n",
       " 119,\n",
       " 154,\n",
       " 195,\n",
       " 5,\n",
       " 189,\n",
       " 85,\n",
       " 33,\n",
       " 135,\n",
       " 5,\n",
       " 192,\n",
       " 84,\n",
       " 89,\n",
       " 95,\n",
       " 62,\n",
       " 147,\n",
       " 0,\n",
       " 49,\n",
       " 152,\n",
       " 66,\n",
       " 160,\n",
       " 122,\n",
       " 149,\n",
       " 125]"
      ]
     },
     "execution_count": 9,
     "metadata": {},
     "output_type": "execute_result"
    }
   ],
   "source": [
    "batch[2]"
   ]
  }
 ],
 "metadata": {
  "kernelspec": {
   "display_name": "env",
   "language": "python",
   "name": "python3"
  },
  "language_info": {
   "codemirror_mode": {
    "name": "ipython",
    "version": 3
   },
   "file_extension": ".py",
   "mimetype": "text/x-python",
   "name": "python",
   "nbconvert_exporter": "python",
   "pygments_lexer": "ipython3",
   "version": "3.12.3"
  }
 },
 "nbformat": 4,
 "nbformat_minor": 2
}
